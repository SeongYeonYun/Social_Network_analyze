{
 "cells": [
  {
   "cell_type": "code",
   "execution_count": 1,
   "metadata": {},
   "outputs": [],
   "source": [
    "import csv\n",
    "import os\n",
    "from multiprocessing import Pool\n",
    "import requests\n",
    "from bs4 import BeautifulSoup\n",
    "import json"
   ]
  },
  {
   "cell_type": "code",
   "execution_count": 3,
   "metadata": {
    "pycharm": {
     "name": "#%% 날짜 범위 지정\n"
    }
   },
   "outputs": [],
   "source": [
    "date_range = ['2010-01-01', '2019-12-31']"
   ]
  },
  {
   "cell_type": "code",
   "execution_count": null,
   "outputs": [],
   "source": [
    "def apply_multiprocessing(func, data):\n",
    "    print('Start multiprocessing')\n",
    "    pool = Pool(processes=os.cpu_count())\n",
    "    result = pool.map(func, data)\n",
    "    pool.close()\n",
    "\n",
    "    return result"
   ],
   "metadata": {
    "collapsed": false,
    "pycharm": {
     "name": "#%% 속도 향상을 위해 동시 작업 진행\n"
    }
   }
  },
  {
   "cell_type": "code",
   "execution_count": null,
   "outputs": [],
   "source": [
    "def crawling(movie_str):\n",
    "    movie = BeautifulSoup(movie_str, 'html.parser')\n",
    "    tb_row = [x.text.strip().replace('\\r', '').replace('\\t', '').replace('\\n', '') for x in movie.select('td span')]\n",
    "    code = tb_row[2].replace(' ', '')\n",
    "    movie_row = [tb_row[0], tb_row[1], code, tb_row[7]]\n",
    "    print(movie_row)\n",
    "    staff_rows = []\n",
    "\n",
    "    response_staff = requests.post('http://www.kobis.or.kr/kobis/business/mast/mvie/searchMovStaffLists.do',\n",
    "                                   headers={\"Accept\": \"application/json, text/javascript, */*; q=0.01\"},\n",
    "                                   data={'movieCd': f'{code}'})\n",
    "    staffs = json.loads(response_staff.content.decode())\n",
    "    directors = [(staff['peopleNm'], staff['peopleCd']) for staff in staffs if staff['roleCd'] == '320301']\n",
    "    for director_name, director_id in directors:\n",
    "        staff_rows.append((code, 'director', director_name, director_id))\n",
    "\n",
    "    response_actor = requests.post('http://www.kobis.or.kr/kobis/business/mast/mvie/searchMovActorLists.do',\n",
    "                                   headers={\"Accept\": \"application/json, text/javascript, */*; q=0.01\"},\n",
    "                                   data={'movieCd': f'{code}'})\n",
    "    actors = json.loads(response_actor.content.decode())\n",
    "    main_actor = [(actor['peopleNm'], actor['peopleCd']) for actor in actors if actor['actorGb'] == '1']\n",
    "    for actor_name, actor_id in main_actor:\n",
    "        staff_rows.append((code, 'actor', actor_name, actor_id))\n",
    "\n",
    "    response_dtl = requests.get('http://www.kobis.or.kr/kobis/business/mast/mvie/searchMovieDtl.do',\n",
    "                                params={'code': f'{code}'})\n",
    "    soup_dtl = BeautifulSoup(response_dtl.content, 'html.parser')\n",
    "    dtl_dts = soup_dtl.select('dl.ovf.cont dt')\n",
    "    dtl_dts_text = [dt.text for dt in dtl_dts]\n",
    "    dtl_dds = soup_dtl.select('dl.ovf.cont dd')\n",
    "\n",
    "    if '요약정보' in dtl_dts_text:\n",
    "        summary = dtl_dds[dtl_dts_text.index('요약정보')].text.split('|')\n",
    "        genre = summary[2].strip().replace('\\r', '').replace('\\t', '').replace('\\n', '')\n",
    "        country = summary[-1].strip().replace('\\r', '').replace('\\t', '').replace('\\n', '')\n",
    "    else:\n",
    "        genre = ''\n",
    "        country = ''\n",
    "    if '개봉일' in dtl_dts_text:\n",
    "        open_date = dtl_dds[dtl_dts_text.index('개봉일')].text.strip().replace('\\r', '').replace('\\t', '').replace('\\n', '')\n",
    "    else:\n",
    "        open_date = ''\n",
    "\n",
    "    movie_row.append(country.replace(' ', ''))\n",
    "    movie_row.append(genre.replace(' ', ''))\n",
    "    movie_row.append(open_date.replace(' ', ''))\n",
    "\n",
    "    return (movie_row, staff_rows)"
   ],
   "metadata": {
    "collapsed": false,
    "pycharm": {
     "name": "#%% 영화 1개 데이터 크롤링\n"
    }
   }
  },
  {
   "cell_type": "code",
   "execution_count": 40,
   "metadata": {
    "pycharm": {
     "name": "#%% 날짜 범위 내의 모든 영화 리스트 및 데이터 크롤링\n"
    }
   },
   "outputs": [
    {
     "ename": "TypeError",
     "evalue": "unhashable type: 'list'",
     "output_type": "error",
     "traceback": [
      "\u001B[1;31m---------------------------------------------------------------------------\u001B[0m",
      "\u001B[1;31mTypeError\u001B[0m                                 Traceback (most recent call last)",
      "\u001B[1;32m<ipython-input-40-62768909da6b>\u001B[0m in \u001B[0;36m<module>\u001B[1;34m\u001B[0m\n\u001B[1;32m----> 1\u001B[1;33m \u001B[0mmovie\u001B[0m\u001B[1;33m.\u001B[0m\u001B[0mloc\u001B[0m\u001B[1;33m(\u001B[0m\u001B[1;33m[\u001B[0m\u001B[0mlist\u001B[0m\u001B[1;33m(\u001B[0m\u001B[0mmovie\u001B[0m\u001B[1;33m[\u001B[0m\u001B[1;34m'genre'\u001B[0m\u001B[1;33m]\u001B[0m\u001B[1;33m.\u001B[0m\u001B[0mdropna\u001B[0m\u001B[1;33m(\u001B[0m\u001B[1;33m)\u001B[0m\u001B[1;33m.\u001B[0m\u001B[0mindex\u001B[0m\u001B[1;33m)\u001B[0m\u001B[1;33m,\u001B[0m\u001B[1;33m]\u001B[0m\u001B[1;33m)\u001B[0m\u001B[1;33m\u001B[0m\u001B[1;33m\u001B[0m\u001B[0m\n\u001B[0m",
      "\u001B[1;32md:\\desktop\\sch\\venv\\venv_social\\lib\\site-packages\\pandas\\core\\indexing.py\u001B[0m in \u001B[0;36m__call__\u001B[1;34m(self, axis)\u001B[0m\n\u001B[0;32m    576\u001B[0m \u001B[1;33m\u001B[0m\u001B[0m\n\u001B[0;32m    577\u001B[0m         \u001B[1;32mif\u001B[0m \u001B[0maxis\u001B[0m \u001B[1;32mis\u001B[0m \u001B[1;32mnot\u001B[0m \u001B[1;32mNone\u001B[0m\u001B[1;33m:\u001B[0m\u001B[1;33m\u001B[0m\u001B[1;33m\u001B[0m\u001B[0m\n\u001B[1;32m--> 578\u001B[1;33m             \u001B[0maxis\u001B[0m \u001B[1;33m=\u001B[0m \u001B[0mself\u001B[0m\u001B[1;33m.\u001B[0m\u001B[0mobj\u001B[0m\u001B[1;33m.\u001B[0m\u001B[0m_get_axis_number\u001B[0m\u001B[1;33m(\u001B[0m\u001B[0maxis\u001B[0m\u001B[1;33m)\u001B[0m\u001B[1;33m\u001B[0m\u001B[1;33m\u001B[0m\u001B[0m\n\u001B[0m\u001B[0;32m    579\u001B[0m         \u001B[0mnew_self\u001B[0m\u001B[1;33m.\u001B[0m\u001B[0maxis\u001B[0m \u001B[1;33m=\u001B[0m \u001B[0maxis\u001B[0m\u001B[1;33m\u001B[0m\u001B[1;33m\u001B[0m\u001B[0m\n\u001B[0;32m    580\u001B[0m         \u001B[1;32mreturn\u001B[0m \u001B[0mnew_self\u001B[0m\u001B[1;33m\u001B[0m\u001B[1;33m\u001B[0m\u001B[0m\n",
      "\u001B[1;32md:\\desktop\\sch\\venv\\venv_social\\lib\\site-packages\\pandas\\core\\generic.py\u001B[0m in \u001B[0;36m_get_axis_number\u001B[1;34m(cls, axis)\u001B[0m\n\u001B[0;32m    396\u001B[0m     \u001B[1;33m@\u001B[0m\u001B[0mclassmethod\u001B[0m\u001B[1;33m\u001B[0m\u001B[1;33m\u001B[0m\u001B[0m\n\u001B[0;32m    397\u001B[0m     \u001B[1;32mdef\u001B[0m \u001B[0m_get_axis_number\u001B[0m\u001B[1;33m(\u001B[0m\u001B[0mcls\u001B[0m\u001B[1;33m,\u001B[0m \u001B[0maxis\u001B[0m\u001B[1;33m)\u001B[0m\u001B[1;33m:\u001B[0m\u001B[1;33m\u001B[0m\u001B[1;33m\u001B[0m\u001B[0m\n\u001B[1;32m--> 398\u001B[1;33m         \u001B[0maxis\u001B[0m \u001B[1;33m=\u001B[0m \u001B[0mcls\u001B[0m\u001B[1;33m.\u001B[0m\u001B[0m_AXIS_ALIASES\u001B[0m\u001B[1;33m.\u001B[0m\u001B[0mget\u001B[0m\u001B[1;33m(\u001B[0m\u001B[0maxis\u001B[0m\u001B[1;33m,\u001B[0m \u001B[0maxis\u001B[0m\u001B[1;33m)\u001B[0m\u001B[1;33m\u001B[0m\u001B[1;33m\u001B[0m\u001B[0m\n\u001B[0m\u001B[0;32m    399\u001B[0m         \u001B[1;32mif\u001B[0m \u001B[0mis_integer\u001B[0m\u001B[1;33m(\u001B[0m\u001B[0maxis\u001B[0m\u001B[1;33m)\u001B[0m\u001B[1;33m:\u001B[0m\u001B[1;33m\u001B[0m\u001B[1;33m\u001B[0m\u001B[0m\n\u001B[0;32m    400\u001B[0m             \u001B[1;32mif\u001B[0m \u001B[0maxis\u001B[0m \u001B[1;32min\u001B[0m \u001B[0mcls\u001B[0m\u001B[1;33m.\u001B[0m\u001B[0m_AXIS_NAMES\u001B[0m\u001B[1;33m:\u001B[0m\u001B[1;33m\u001B[0m\u001B[1;33m\u001B[0m\u001B[0m\n",
      "\u001B[1;31mTypeError\u001B[0m: unhashable type: 'list'"
     ]
    }
   ],
   "source": [
    "def main():\n",
    "    curpage = 1\n",
    "    page_length = 1\n",
    "    movies_str = []\n",
    "    while page_length > 0:\n",
    "        response = requests.get('http://www.kobis.or.kr/kobis/business/mast/mvie/searchMovieList.do',\n",
    "                                params={'curPage': curpage,\n",
    "                                        'sOpenYearS': date_range[0],\n",
    "                                        'sOpenYearE': date_range[1]})\n",
    "        soup = BeautifulSoup(response.content, 'html.parser')\n",
    "        movies = soup.select('tr')[1:]\n",
    "        movies_str.extend([x.decode() for x in movies])\n",
    "        page_length = len(movies)\n",
    "\n",
    "        print(f'curpage: {curpage}')\n",
    "        curpage += 1\n",
    "\n",
    "    movie_f = open('movie_list.csv', 'w', encoding='UTF-8')\n",
    "    staff_f = open('staff_list.csv', 'w', encoding='UTF-8')\n",
    "\n",
    "    movie_writer = csv.writer(movie_f, lineterminator='\\n')\n",
    "    movie_writer.writerow(('title', 'title_en', 'code', 'status', 'country', 'genre', 'open'))\n",
    "\n",
    "    staff_writer = csv.writer(staff_f, lineterminator='\\n')\n",
    "    staff_writer.writerow(('movie_id', 'person_category', 'person_name', 'person_id'))\n",
    "\n",
    "    # py 파일일 때 실행\n",
    "    movie_rows = apply_multiprocessing(crawling, movies_str)\n",
    "\n",
    "    # ipynb 파일일 때 실행\n",
    "    # movie_rows = []\n",
    "    # for movie_str in movies_str:\n",
    "    #     movie_rows.append(crawling(movie_str))\n",
    "\n",
    "    for movie in movie_rows:\n",
    "        movie_writer.writerow(movie[0])\n",
    "        for staff_row in movie[1]:\n",
    "            staff_writer.writerow(staff_row)\n",
    "    movie_f.close()\n",
    "    staff_f.close()"
   ]
  },
  {
   "cell_type": "code",
   "execution_count": 16,
   "metadata": {
    "pycharm": {
     "name": "#%% 실제 실행 함수\n"
    }
   },
   "outputs": [
    {
     "data": {
      "text/html": [
       "<div>\n",
       "<style scoped>\n",
       "    .dataframe tbody tr th:only-of-type {\n",
       "        vertical-align: middle;\n",
       "    }\n",
       "\n",
       "    .dataframe tbody tr th {\n",
       "        vertical-align: top;\n",
       "    }\n",
       "\n",
       "    .dataframe thead th {\n",
       "        text-align: right;\n",
       "    }\n",
       "</style>\n",
       "<table border=\"1\" class=\"dataframe\">\n",
       "  <thead>\n",
       "    <tr style=\"text-align: right;\">\n",
       "      <th></th>\n",
       "      <th>movie_id</th>\n",
       "      <th>person_id.x</th>\n",
       "      <th>person_id.y</th>\n",
       "    </tr>\n",
       "  </thead>\n",
       "  <tbody>\n",
       "    <tr>\n",
       "      <th>2465</th>\n",
       "      <td>20110221</td>\n",
       "      <td>D10010652</td>\n",
       "      <td>A10063816</td>\n",
       "    </tr>\n",
       "    <tr>\n",
       "      <th>2466</th>\n",
       "      <td>20110221</td>\n",
       "      <td>D10010652</td>\n",
       "      <td>A10030781</td>\n",
       "    </tr>\n",
       "    <tr>\n",
       "      <th>2467</th>\n",
       "      <td>20110221</td>\n",
       "      <td>D10010652</td>\n",
       "      <td>A10027183</td>\n",
       "    </tr>\n",
       "  </tbody>\n",
       "</table>\n",
       "</div>"
      ],
      "text/plain": [
       "      movie_id person_id.x person_id.y\n",
       "2465  20110221   D10010652   A10063816\n",
       "2466  20110221   D10010652   A10030781\n",
       "2467  20110221   D10010652   A10027183"
      ]
     },
     "execution_count": 16,
     "metadata": {},
     "output_type": "execute_result"
    }
   ],
   "source": [
    "if __name__ == '__main__':\n",
    "    main()"
   ]
  }
 ],
 "metadata": {
  "kernelspec": {
   "display_name": "Python 3",
   "language": "python",
   "name": "python3"
  },
  "language_info": {
   "codemirror_mode": {
    "name": "ipython",
    "version": 3
   },
   "file_extension": ".py",
   "mimetype": "text/x-python",
   "name": "python",
   "nbconvert_exporter": "python",
   "pygments_lexer": "ipython3",
   "version": "3.8.1"
  }
 },
 "nbformat": 4,
 "nbformat_minor": 1
}